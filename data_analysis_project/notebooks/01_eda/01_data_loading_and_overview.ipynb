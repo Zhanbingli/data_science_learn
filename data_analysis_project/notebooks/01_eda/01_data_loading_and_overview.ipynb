{
 "cells": [
  {
   "cell_type": "markdown",
   "metadata": {},
   "source": [
    "# 01 - 数据加载与初步观察\n",
    "\n",
    "## 🎯 学习目标\n",
    "- 掌握Pandas读取各类数据文件\n",
    "- 理解数据的基本结构（行、列、类型）\n",
    "- 学会快速诊断数据质量问题\n",
    "\n",
    "## 📚 知识点\n",
    "1. `pd.read_csv()` 参数详解\n",
    "2. DataFrame基本属性：shape, dtypes, info(), describe()\n",
    "3. 内存优化：降低数据类型内存占用\n",
    "4. 缺失值初步检查"
   ]
  },
  {
   "cell_type": "markdown",
   "metadata": {},
   "source": [
    "---\n",
    "## 1. 环境准备"
   ]
  },
  {
   "cell_type": "code",
   "execution_count": null,
   "metadata": {},
   "outputs": [],
   "source": [
    "# 导入基础库\n",
    "import pandas as pd\n",
    "import numpy as np\n",
    "import matplotlib.pyplot as plt\n",
    "import seaborn as sns\n",
    "import warnings\n",
    "\n",
    "# 配置\n",
    "warnings.filterwarnings('ignore')\n",
    "plt.rcParams['font.sans-serif'] = ['Arial Unicode MS', 'SimHei']  # 中文显示\n",
    "plt.rcParams['axes.unicode_minus'] = False\n",
    "sns.set_style('whitegrid')\n",
    "\n",
    "# 显示设置\n",
    "pd.set_option('display.max_columns', 100)\n",
    "pd.set_option('display.max_rows', 100)\n",
    "\n",
    "print(\"✅ 环境准备完成\")"
   ]
  },
  {
   "cell_type": "markdown",
   "metadata": {},
   "source": [
    "---\n",
    "## 2. 数据加载\n",
    "\n",
    "### 💡 学习要点\n",
    "- 不同文件格式的读取方法\n",
    "- 重要参数：`sep`, `encoding`, `parse_dates`, `na_values`\n",
    "- 读取大文件的技巧：`chunksize`, `usecols`"
   ]
  },
  {
   "cell_type": "code",
   "execution_count": null,
   "metadata": {},
   "outputs": [],
   "source": [
    "# 数据路径\n",
    "DATA_PATH = '../../data/raw/'\n",
    "\n",
    "# 读取训练集\n",
    "train = pd.read_csv(DATA_PATH + 'train.csv')\n",
    "\n",
    "# 读取测试集\n",
    "test = pd.read_csv(DATA_PATH + 'test.csv')\n",
    "\n",
    "print(f\"训练集形状: {train.shape}\")\n",
    "print(f\"测试集形状: {test.shape}\")"
   ]
  },
  {
   "cell_type": "markdown",
   "metadata": {},
   "source": [
    "### 🔍 快速查看前几行"
   ]
  },
  {
   "cell_type": "code",
   "execution_count": null,
   "metadata": {},
   "outputs": [],
   "source": [
    "train.head()"
   ]
  },
  {
   "cell_type": "code",
   "execution_count": null,
   "metadata": {},
   "outputs": [],
   "source": [
    "test.head()"
   ]
  },
  {
   "cell_type": "markdown",
   "metadata": {},
   "source": [
    "---\n",
    "## 3. 数据结构理解\n",
    "\n",
    "### 💡 学习要点\n",
    "- `shape`: (行数, 列数)\n",
    "- `dtypes`: 每列的数据类型\n",
    "- `info()`: 综合信息，包括缺失值\n",
    "- `columns`: 列名列表"
   ]
  },
  {
   "cell_type": "code",
   "execution_count": null,
   "metadata": {},
   "outputs": [],
   "source": [
    "print(\"=\"*50)\n",
    "print(\"训练集基本信息\")\n",
    "print(\"=\"*50)\n",
    "train.info()"
   ]
  },
  {
   "cell_type": "code",
   "execution_count": null,
   "metadata": {},
   "outputs": [],
   "source": [
    "# 数据类型统计\n",
    "print(\"\\n数据类型分布:\")\n",
    "print(train.dtypes.value_counts())"
   ]
  },
  {
   "cell_type": "code",
   "execution_count": null,
   "metadata": {},
   "outputs": [],
   "source": [
    "# 分离数值型和类别型特征\n",
    "numeric_features = train.select_dtypes(include=[np.number]).columns.tolist()\n",
    "categorical_features = train.select_dtypes(include=['object']).columns.tolist()\n",
    "\n",
    "print(f\"\\n数值型特征 ({len(numeric_features)}个): {numeric_features}\")\n",
    "print(f\"\\n类别型特征 ({len(categorical_features)}个): {categorical_features}\")"
   ]
  },
  {
   "cell_type": "markdown",
   "metadata": {},
   "source": [
    "---\n",
    "## 4. 描述性统计\n",
    "\n",
    "### 💡 学习要点\n",
    "- `describe()`: 数值型特征的统计摘要\n",
    "- 关注：均值、标准差、分位数、极值\n",
    "- 识别潜在异常值（极值过大/过小）"
   ]
  },
  {
   "cell_type": "code",
   "execution_count": null,
   "metadata": {},
   "outputs": [],
   "source": [
    "# 数值型特征统计\n",
    "train.describe()"
   ]
  },
  {
   "cell_type": "code",
   "execution_count": null,
   "metadata": {},
   "outputs": [],
   "source": [
    "# 类别型特征统计\n",
    "train.describe(include=['object'])"
   ]
  },
  {
   "cell_type": "markdown",
   "metadata": {},
   "source": [
    "---\n",
    "## 5. 缺失值分析\n",
    "\n",
    "### 💡 学习要点\n",
    "- `isnull().sum()`: 每列缺失值数量\n",
    "- 缺失率计算\n",
    "- 可视化缺失模式"
   ]
  },
  {
   "cell_type": "code",
   "execution_count": null,
   "metadata": {},
   "outputs": [],
   "source": [
    "def missing_values_table(df):\n",
    "    \"\"\"生成缺失值统计表\"\"\"\n",
    "    mis_val = df.isnull().sum()\n",
    "    mis_val_percent = 100 * mis_val / len(df)\n",
    "    mis_val_table = pd.concat([mis_val, mis_val_percent], axis=1)\n",
    "    mis_val_table_ren_columns = mis_val_table.rename(\n",
    "        columns={0: '缺失值数量', 1: '缺失率(%)'})\n",
    "    mis_val_table_ren_columns = mis_val_table_ren_columns[\n",
    "        mis_val_table_ren_columns.iloc[:, 1] != 0].sort_values(\n",
    "        '缺失率(%)', ascending=False).round(2)\n",
    "    print(f\"数据集共有 {df.shape[1]} 列\")\n",
    "    print(f\"其中 {mis_val_table_ren_columns.shape[0]} 列有缺失值\")\n",
    "    return mis_val_table_ren_columns\n",
    "\n",
    "missing_train = missing_values_table(train)\n",
    "missing_train"
   ]
  },
  {
   "cell_type": "code",
   "execution_count": null,
   "metadata": {},
   "outputs": [],
   "source": [
    "# 可视化缺失值\n",
    "if len(missing_train) > 0:\n",
    "    plt.figure(figsize=(10, 6))\n",
    "    plt.barh(missing_train.index, missing_train['缺失率(%)'])\n",
    "    plt.xlabel('缺失率 (%)')\n",
    "    plt.title('特征缺失率')\n",
    "    plt.tight_layout()\n",
    "    plt.show()"
   ]
  },
  {
   "cell_type": "markdown",
   "metadata": {},
   "source": [
    "---\n",
    "## 6. 目标变量分析\n",
    "\n",
    "### 💡 学习要点\n",
    "- 分类问题：类别分布是否均衡\n",
    "- 回归问题：目标变量的分布形态"
   ]
  },
  {
   "cell_type": "code",
   "execution_count": null,
   "metadata": {},
   "outputs": [],
   "source": [
    "# 假设目标变量列名为 'target'\n",
    "TARGET_COL = 'target'  # 根据实际情况修改\n",
    "\n",
    "if TARGET_COL in train.columns:\n",
    "    print(f\"目标变量 '{TARGET_COL}' 统计:\")\n",
    "    print(train[TARGET_COL].describe())\n",
    "    print(f\"\\n类别分布:\")\n",
    "    print(train[TARGET_COL].value_counts())\n",
    "    print(f\"\\n类别占比:\")\n",
    "    print(train[TARGET_COL].value_counts(normalize=True))"
   ]
  },
  {
   "cell_type": "markdown",
   "metadata": {},
   "source": [
    "---\n",
    "## 7. 内存优化\n",
    "\n",
    "### 💡 学习要点\n",
    "- 通过降低数值类型精度减少内存占用\n",
    "- int64 → int8/int16/int32\n",
    "- float64 → float32"
   ]
  },
  {
   "cell_type": "code",
   "execution_count": null,
   "metadata": {},
   "outputs": [],
   "source": [
    "def reduce_mem_usage(df, verbose=True):\n",
    "    \"\"\"内存优化函数\"\"\"\n",
    "    numerics = ['int16', 'int32', 'int64', 'float16', 'float32', 'float64']\n",
    "    start_mem = df.memory_usage().sum() / 1024**2\n",
    "    \n",
    "    for col in df.columns:\n",
    "        col_type = df[col].dtypes\n",
    "        if col_type in numerics:\n",
    "            c_min = df[col].min()\n",
    "            c_max = df[col].max()\n",
    "            if str(col_type)[:3] == 'int':\n",
    "                if c_min > np.iinfo(np.int8).min and c_max < np.iinfo(np.int8).max:\n",
    "                    df[col] = df[col].astype(np.int8)\n",
    "                elif c_min > np.iinfo(np.int16).min and c_max < np.iinfo(np.int16).max:\n",
    "                    df[col] = df[col].astype(np.int16)\n",
    "                elif c_min > np.iinfo(np.int32).min and c_max < np.iinfo(np.int32).max:\n",
    "                    df[col] = df[col].astype(np.int32)\n",
    "                elif c_min > np.iinfo(np.int64).min and c_max < np.iinfo(np.int64).max:\n",
    "                    df[col] = df[col].astype(np.int64)\n",
    "            else:\n",
    "                if c_min > np.finfo(np.float32).min and c_max < np.finfo(np.float32).max:\n",
    "                    df[col] = df[col].astype(np.float32)\n",
    "                else:\n",
    "                    df[col] = df[col].astype(np.float64)\n",
    "    \n",
    "    end_mem = df.memory_usage().sum() / 1024**2\n",
    "    if verbose:\n",
    "        print(f'内存使用从 {start_mem:.2f} MB 降至 {end_mem:.2f} MB '\n",
    "              f'(减少 {100 * (start_mem - end_mem) / start_mem:.1f}%)')\n",
    "    return df\n",
    "\n",
    "# 应用内存优化\n",
    "train = reduce_mem_usage(train)\n",
    "test = reduce_mem_usage(test)"
   ]
  },
  {
   "cell_type": "markdown",
   "metadata": {},
   "source": [
    "---\n",
    "## 📝 本节总结\n",
    "\n",
    "### 已完成的工作\n",
    "- [ ] 成功加载训练集和测试集\n",
    "- [ ] 了解数据的基本结构（行数、列数、类型）\n",
    "- [ ] 识别数值型和类别型特征\n",
    "- [ ] 分析缺失值情况\n",
    "- [ ] 初步了解目标变量分布\n",
    "- [ ] 优化内存使用\n",
    "\n",
    "### 发现的问题\n",
    "记录你发现的数据质量问题：\n",
    "1. \n",
    "2. \n",
    "3. \n",
    "\n",
    "### 下一步计划\n",
    "- 单变量分析：深入了解每个特征的分布\n",
    "- 双变量分析：探索特征与目标的关系"
   ]
  },
  {
   "cell_type": "markdown",
   "metadata": {},
   "source": [
    "---\n",
    "## 💾 保存处理后的数据"
   ]
  },
  {
   "cell_type": "code",
   "execution_count": null,
   "metadata": {},
   "outputs": [],
   "source": [
    "# 保存到processed目录\n",
    "train.to_pickle('../../data/processed/train_initial.pkl')\n",
    "test.to_pickle('../../data/processed/test_initial.pkl')\n",
    "print(\"✅ 数据已保存\")"
   ]
  }
 ],
 "metadata": {
  "kernelspec": {
   "display_name": "iciml",
   "language": "python",
   "name": "python3"
  },
  "language_info": {
   "codemirror_mode": {
    "name": "ipython",
    "version": 3
   },
   "file_extension": ".py",
   "mimetype": "text/x-python",
   "name": "python",
   "nbconvert_exporter": "python",
   "pygments_lexer": "ipython3",
   "version": "3.11.13"
  }
 },
 "nbformat": 4,
 "nbformat_minor": 4
}
