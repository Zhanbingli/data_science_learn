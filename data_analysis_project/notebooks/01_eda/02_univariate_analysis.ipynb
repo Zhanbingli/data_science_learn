{
 "cells": [
  {
   "cell_type": "markdown",
   "metadata": {},
   "source": [
    "# 02 - 单变量分析\n",
    "\n",
    "## 🎯 学习目标\n",
    "- 掌握数值型变量的分布分析方法\n",
    "- 掌握类别型变量的频数分析\n",
    "- 学会使用多种可视化方法展示单变量特征\n",
    "\n",
    "## 📚 核心知识点\n",
    "1. **数值型变量分析**\n",
    "   - 直方图（Histogram）：观察分布形态\n",
    "   - 箱线图（Boxplot）：识别异常值\n",
    "   - 密度图（KDE）：平滑的分布曲线\n",
    "   - QQ图：检验正态性\n",
    "\n",
    "2. **类别型变量分析**\n",
    "   - 频数统计\n",
    "   - 柱状图/饼图\n",
    "   - 高基数类别特征处理"
   ]
  },
  {
   "cell_type": "code",
   "execution_count": null,
   "metadata": {},
   "source": [
    "# 导入库\n",
    "import pandas as pd\n",
    "import numpy as np\n",
    "import matplotlib.pyplot as plt\n",
    "import seaborn as sns\n",
    "from scipy import stats\n",
    "import warnings\n",
    "warnings.filterwarnings('ignore')\n",
    "\n",
    "# 配置\n",
    "plt.rcParams['font.sans-serif'] = ['Arial Unicode MS', 'SimHei']\n",
    "plt.rcParams['axes.unicode_minus'] = False\n",
    "sns.set_palette('husl')\n",
    "\n",
    "print(\"✅ 环境准备完成\")"
   ],
   "outputs": []
  },
  {
   "cell_type": "markdown",
   "metadata": {},
   "source": [
    "---\n",
    "## 1. 加载数据"
   ]
  },
  {
   "cell_type": "code",
   "execution_count": null,
   "metadata": {},
   "source": [
    "train = pd.read_pickle('../../data/processed/train_initial.pkl')\n",
    "print(f\"数据形状: {train.shape}\")\n",
    "\n",
    "# 分离特征类型\n",
    "numeric_features = train.select_dtypes(include=[np.number]).columns.tolist()\n",
    "categorical_features = train.select_dtypes(include=['object']).columns.tolist()\n",
    "\n",
    "# 假设目标变量\n",
    "TARGET_COL = 'target'  # 根据实际修改\n",
    "if TARGET_COL in numeric_features:\n",
    "    numeric_features.remove(TARGET_COL)"
   ],
   "outputs": []
  },
  {
   "cell_type": "markdown",
   "metadata": {},
   "source": [
    "---\n",
    "## 2. 数值型变量分析\n",
    "\n",
    "### 💡 学习要点\n",
    "- **偏度（Skewness）**：分布的对称性\n",
    "  - 偏度 = 0：正态分布\n",
    "  - 偏度 > 0：右偏（长尾在右）\n",
    "  - 偏度 < 0：左偏（长尾在左）\n",
    "  \n",
    "- **峰度（Kurtosis）**：分布的陡峭程度\n",
    "  - 峰度 = 3：正态分布\n",
    "  - 峰度 > 3：尖峰\n",
    "  - 峰度 < 3：平峰"
   ]
  },
  {
   "cell_type": "code",
   "execution_count": null,
   "metadata": {},
   "source": [
    "def analyze_numeric_feature(df, feature):\n",
    "    \"\"\"分析单个数值型特征\"\"\"\n",
    "    fig, axes = plt.subplots(2, 2, figsize=(14, 10))\n",
    "    fig.suptitle(f'特征: {feature}', fontsize=16, fontweight='bold')\n",
    "    \n",
    "    # 1. 直方图 + KDE\n",
    "    axes[0, 0].hist(df[feature].dropna(), bins=50, edgecolor='black', alpha=0.7)\n",
    "    axes[0, 0].set_title('直方图')\n",
    "    axes[0, 0].set_xlabel(feature)\n",
    "    axes[0, 0].set_ylabel('频数')\n",
    "    \n",
    "    # 2. 密度图\n",
    "    df[feature].dropna().plot(kind='kde', ax=axes[0, 1], linewidth=2)\n",
    "    axes[0, 1].set_title('核密度估计 (KDE)')\n",
    "    axes[0, 1].set_xlabel(feature)\n",
    "    \n",
    "    # 3. 箱线图\n",
    "    axes[1, 0].boxplot(df[feature].dropna(), vert=False)\n",
    "    axes[1, 0].set_title('箱线图（检测异常值）')\n",
    "    axes[1, 0].set_xlabel(feature)\n",
    "    \n",
    "    # 4. QQ图（正态性检验）\n",
    "    stats.probplot(df[feature].dropna(), dist=\"norm\", plot=axes[1, 1])\n",
    "    axes[1, 1].set_title('QQ图（正态性检验）')\n",
    "    \n",
    "    plt.tight_layout()\n",
    "    plt.show()\n",
    "    \n",
    "    # 统计信息\n",
    "    print(f\"\\n{'='*50}\")\n",
    "    print(f\"特征: {feature}\")\n",
    "    print(f\"{'='*50}\")\n",
    "    print(f\"缺失值: {df[feature].isnull().sum()} ({df[feature].isnull().sum()/len(df)*100:.2f}%)\")\n",
    "    print(f\"唯一值数量: {df[feature].nunique()}\")\n",
    "    print(f\"\\n描述性统计:\")\n",
    "    print(df[feature].describe())\n",
    "    print(f\"\\n偏度 (Skewness): {df[feature].skew():.4f}\")\n",
    "    print(f\"峰度 (Kurtosis): {df[feature].kurtosis():.4f}\")\n",
    "    \n",
    "    # 异常值统计（IQR方法）\n",
    "    Q1 = df[feature].quantile(0.25)\n",
    "    Q3 = df[feature].quantile(0.75)\n",
    "    IQR = Q3 - Q1\n",
    "    lower_bound = Q1 - 1.5 * IQR\n",
    "    upper_bound = Q3 + 1.5 * IQR\n",
    "    outliers = df[(df[feature] < lower_bound) | (df[feature] > upper_bound)]\n",
    "    print(f\"\\n异常值数量 (IQR方法): {len(outliers)} ({len(outliers)/len(df)*100:.2f}%)\")"
   ],
   "outputs": []
  },
  {
   "cell_type": "code",
   "execution_count": null,
   "metadata": {},
   "source": [
    "# 示例：分析第一个数值型特征\n",
    "if len(numeric_features) > 0:\n",
    "    analyze_numeric_feature(train, numeric_features[0])"
   ],
   "outputs": []
  },
  {
   "cell_type": "markdown",
   "metadata": {},
   "source": [
    "### 批量分析所有数值型特征"
   ]
  },
  {
   "cell_type": "code",
   "execution_count": null,
   "metadata": {},
   "source": [
    "# 创建统计摘要表\n",
    "numeric_summary = pd.DataFrame({\n",
    "    '特征': numeric_features,\n",
    "    '缺失率': [train[col].isnull().sum() / len(train) * 100 for col in numeric_features],\n",
    "    '唯一值': [train[col].nunique() for col in numeric_features],\n",
    "    '均值': [train[col].mean() for col in numeric_features],\n",
    "    '标准差': [train[col].std() for col in numeric_features],\n",
    "    '最小值': [train[col].min() for col in numeric_features],\n",
    "    '最大值': [train[col].max() for col in numeric_features],\n",
    "    '偏度': [train[col].skew() for col in numeric_features],\n",
    "    '峰度': [train[col].kurtosis() for col in numeric_features]\n",
    "})\n",
    "\n",
    "numeric_summary.round(3)"
   ],
   "outputs": []
  },
  {
   "cell_type": "markdown",
   "metadata": {},
   "source": [
    "### 可视化所有数值型特征分布"
   ]
  },
  {
   "cell_type": "code",
   "execution_count": null,
   "metadata": {},
   "source": [
    "# 绘制所有数值型特征的直方图\n",
    "n_cols = 3\n",
    "n_rows = (len(numeric_features) + n_cols - 1) // n_cols\n",
    "\n",
    "fig, axes = plt.subplots(n_rows, n_cols, figsize=(18, n_rows * 4))\n",
    "axes = axes.flatten()\n",
    "\n",
    "for idx, feature in enumerate(numeric_features):\n",
    "    train[feature].hist(bins=50, ax=axes[idx], edgecolor='black', alpha=0.7)\n",
    "    axes[idx].set_title(f'{feature}\\n偏度: {train[feature].skew():.2f}')\n",
    "    axes[idx].set_xlabel('')\n",
    "\n",
    "# 隐藏多余的子图\n",
    "for idx in range(len(numeric_features), len(axes)):\n",
    "    axes[idx].axis('off')\n",
    "\n",
    "plt.suptitle('所有数值型特征分布', fontsize=16, y=1.001)\n",
    "plt.tight_layout()\n",
    "plt.show()"
   ],
   "outputs": []
  },
  {
   "cell_type": "markdown",
   "metadata": {},
   "source": [
    "---\n",
    "## 3. 类别型变量分析\n",
    "\n",
    "### 💡 学习要点\n",
    "- 高基数类别特征：唯一值很多的类别特征\n",
    "- 类别不平衡：某些类别样本量远大于其他类别\n",
    "- 稀有类别：出现次数很少的类别"
   ]
  },
  {
   "cell_type": "code",
   "execution_count": null,
   "metadata": {},
   "source": [
    "def analyze_categorical_feature(df, feature, top_n=10):\n",
    "    \"\"\"分析单个类别型特征\"\"\"\n",
    "    fig, axes = plt.subplots(1, 2, figsize=(16, 5))\n",
    "    fig.suptitle(f'特征: {feature}', fontsize=16, fontweight='bold')\n",
    "    \n",
    "    # 频数统计\n",
    "    value_counts = df[feature].value_counts()\n",
    "    \n",
    "    # 1. 柱状图（显示Top N）\n",
    "    value_counts.head(top_n).plot(kind='barh', ax=axes[0])\n",
    "    axes[0].set_title(f'Top {top_n} 类别频数')\n",
    "    axes[0].set_xlabel('频数')\n",
    "    \n",
    "    # 2. 占比图\n",
    "    value_pct = df[feature].value_counts(normalize=True) * 100\n",
    "    value_pct.head(top_n).plot(kind='barh', ax=axes[1])\n",
    "    axes[1].set_title(f'Top {top_n} 类别占比')\n",
    "    axes[1].set_xlabel('占比 (%)')\n",
    "    \n",
    "    plt.tight_layout()\n",
    "    plt.show()\n",
    "    \n",
    "    # 统计信息\n",
    "    print(f\"\\n{'='*50}\")\n",
    "    print(f\"特征: {feature}\")\n",
    "    print(f\"{'='*50}\")\n",
    "    print(f\"缺失值: {df[feature].isnull().sum()} ({df[feature].isnull().sum()/len(df)*100:.2f}%)\")\n",
    "    print(f\"唯一值数量: {df[feature].nunique()}\")\n",
    "    print(f\"\\nTop 10 类别:\")\n",
    "    top_10 = pd.DataFrame({\n",
    "        '类别': value_counts.head(10).index,\n",
    "        '频数': value_counts.head(10).values,\n",
    "        '占比(%)': value_pct.head(10).values\n",
    "    })\n",
    "    print(top_10.to_string(index=False))\n",
    "    \n",
    "    # 稀有类别统计\n",
    "    rare_threshold = 0.01  # 出现频率小于1%\n",
    "    rare_categories = value_pct[value_pct < rare_threshold * 100]\n",
    "    print(f\"\\n稀有类别（<1%）: {len(rare_categories)} 个\")"
   ],
   "outputs": []
  },
  {
   "cell_type": "code",
   "execution_count": null,
   "metadata": {},
   "source": [
    "# 示例：分析第一个类别型特征\n",
    "if len(categorical_features) > 0:\n",
    "    analyze_categorical_feature(train, categorical_features[0])"
   ],
   "outputs": []
  },
  {
   "cell_type": "markdown",
   "metadata": {},
   "source": [
    "### 批量分析所有类别型特征"
   ]
  },
  {
   "cell_type": "code",
   "execution_count": null,
   "metadata": {},
   "source": [
    "# 创建类别型特征摘要表\n",
    "categorical_summary = pd.DataFrame({\n",
    "    '特征': categorical_features,\n",
    "    '缺失率': [train[col].isnull().sum() / len(train) * 100 for col in categorical_features],\n",
    "    '唯一值': [train[col].nunique() for col in categorical_features],\n",
    "    '最常见类别': [train[col].mode()[0] if len(train[col].mode()) > 0 else None for col in categorical_features],\n",
    "    '最常见类别占比': [train[col].value_counts(normalize=True).iloc[0] * 100 if len(train[col].value_counts()) > 0 else 0 for col in categorical_features]\n",
    "})\n",
    "\n",
    "categorical_summary.round(2)"
   ],
   "outputs": []
  },
  {
   "cell_type": "markdown",
   "metadata": {},
   "source": [
    "---\n",
    "## 4. 识别需要特殊处理的特征\n",
    "\n",
    "### 💡 关键判断标准\n",
    "1. **高偏度特征**（|skewness| > 1）：考虑对数变换\n",
    "2. **高缺失率特征**（>50%）：考虑删除或特殊处理\n",
    "3. **常数特征**：唯一值=1，应删除\n",
    "4. **高基数类别特征**：考虑频数编码或目标编码"
   ]
  },
  {
   "cell_type": "code",
   "execution_count": null,
   "metadata": {},
   "source": [
    "print(\"特征诊断报告\")\n",
    "print(\"=\"*60)\n",
    "\n",
    "# 1. 高偏度特征\n",
    "high_skew_features = numeric_summary[numeric_summary['偏度'].abs() > 1]['特征'].tolist()\n",
    "print(f\"\\n1. 高偏度特征 (|skew| > 1): {len(high_skew_features)} 个\")\n",
    "if high_skew_features:\n",
    "    print(f\"   {high_skew_features}\")\n",
    "    print(\"   建议: 考虑对数变换或Box-Cox变换\")\n",
    "\n",
    "# 2. 高缺失率特征\n",
    "high_missing_numeric = numeric_summary[numeric_summary['缺失率'] > 50]['特征'].tolist()\n",
    "high_missing_categorical = categorical_summary[categorical_summary['缺失率'] > 50]['特征'].tolist()\n",
    "high_missing_features = high_missing_numeric + high_missing_categorical\n",
    "print(f\"\\n2. 高缺失率特征 (>50%): {len(high_missing_features)} 个\")\n",
    "if high_missing_features:\n",
    "    print(f\"   {high_missing_features}\")\n",
    "    print(\"   建议: 考虑删除或将缺失作为新类别\")\n",
    "\n",
    "# 3. 常数特征\n",
    "constant_features = [col for col in train.columns if train[col].nunique() == 1]\n",
    "print(f\"\\n3. 常数特征: {len(constant_features)} 个\")\n",
    "if constant_features:\n",
    "    print(f\"   {constant_features}\")\n",
    "    print(\"   建议: 删除，无信息量\")\n",
    "\n",
    "# 4. 高基数类别特征\n",
    "high_cardinality_features = categorical_summary[categorical_summary['唯一值'] > 50]['特征'].tolist()\n",
    "print(f\"\\n4. 高基数类别特征 (唯一值>50): {len(high_cardinality_features)} 个\")\n",
    "if high_cardinality_features:\n",
    "    print(f\"   {high_cardinality_features}\")\n",
    "    print(\"   建议: 频数编码、目标编码或分组\")"
   ],
   "outputs": []
  },
  {
   "cell_type": "markdown",
   "metadata": {},
   "source": [
    "---\n",
    "## 📝 本节总结\n",
    "\n",
    "### 已完成的工作\n",
    "- [ ] 数值型特征的分布分析\n",
    "- [ ] 类别型特征的频数分析\n",
    "- [ ] 识别异常值和偏态分布\n",
    "- [ ] 识别需要特殊处理的特征\n",
    "\n",
    "### 关键发现\n",
    "记录你的发现：\n",
    "1. 哪些特征呈正态分布？\n",
    "2. 哪些特征有严重的偏态？\n",
    "3. 哪些类别特征不平衡？\n",
    "4. 有哪些异常值需要处理？\n",
    "\n",
    "### 下一步计划\n",
    "- 双变量分析：探索特征与目标的关系\n",
    "- 多变量分析：特征间的相关性"
   ]
  }
 ],
 "metadata": {
  "kernelspec": {
   "display_name": "Python 3",
   "language": "python",
   "name": "python3"
  },
  "language_info": {
   "name": "python",
   "version": "3.10.0"
  }
 },
 "nbformat": 4,
 "nbformat_minor": 4
}
