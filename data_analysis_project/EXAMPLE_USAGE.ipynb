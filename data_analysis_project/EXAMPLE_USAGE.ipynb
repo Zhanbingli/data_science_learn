{
 "cells": [
  {
   "cell_type": "markdown",
   "metadata": {},
   "source": [
    "# 🚀 论文级别数据分析模板 - 使用示例\n",
    "\n",
    "## 这个notebook展示如何使用分析模板\n",
    "\n",
    "你只需要：\n",
    "1. 修改数据路径\n",
    "2. 修改目标变量名\n",
    "3. 运行所有单元格\n",
    "\n",
    "就能得到完整的论文级别分析报告！"
   ]
  },
  {
   "cell_type": "markdown",
   "metadata": {},
   "source": [
    "---\n",
    "## 📦 方式1: 一键自动化分析（推荐）"
   ]
  },
  {
   "cell_type": "code",
   "execution_count": null,
   "metadata": {},
   "outputs": [],
   "source": [
    "# 导入自动分析器\n",
    "import sys\n",
    "sys.path.append('.')\n",
    "from auto_analysis import AutoAnalyzer"
   ]
  },
  {
   "cell_type": "code",
   "execution_count": null,
   "metadata": {},
   "outputs": [],
   "source": [
    "# ⚙️ 配置：修改为你的数据路径和目标变量\n",
    "DATA_PATH = '../train.csv'  # 👈 修改这里\n",
    "TARGET = 'charges'          # 👈 修改这里\n",
    "OUTPUT_DIR = 'reports/my_analysis'  # 输出目录"
   ]
  },
  {
   "cell_type": "code",
   "execution_count": null,
   "metadata": {},
   "outputs": [],
   "source": [
    "# 创建分析器\n",
    "analyzer = AutoAnalyzer(\n",
    "    data_path=DATA_PATH,\n",
    "    target=TARGET,\n",
    "    output_dir=OUTPUT_DIR\n",
    ")"
   ]
  },
  {
   "cell_type": "code",
   "execution_count": null,
   "metadata": {},
   "outputs": [],
   "source": [
    "# 🎉 运行完整分析（这会生成所有图表和报告）\n",
    "analyzer.run_full_analysis()"
   ]
  },
  {
   "cell_type": "markdown",
   "metadata": {},
   "source": [
    "✅ **完成！** 查看 `reports/my_analysis/` 目录查看所有结果\n",
    "\n",
    "---"
   ]
  },
  {
   "cell_type": "markdown",
   "metadata": {},
   "source": [
    "## 📊 方式2: 分步骤运行（更灵活）\n",
    "\n",
    "如果你想更细粒度地控制分析过程"
   ]
  },
  {
   "cell_type": "code",
   "execution_count": null,
   "metadata": {},
   "outputs": [],
   "source": [
    "# 1. 数据概览\n",
    "analyzer.data_overview()"
   ]
  },
  {
   "cell_type": "code",
   "execution_count": null,
   "metadata": {},
   "outputs": [],
   "source": [
    "# 2. 数据质量检查\n",
    "analyzer.quality_check()"
   ]
  },
  {
   "cell_type": "code",
   "execution_count": null,
   "metadata": {},
   "outputs": [],
   "source": [
    "# 3. 单变量分析（这会生成很多图表）\n",
    "analyzer.univariate_analysis()"
   ]
  },
  {
   "cell_type": "code",
   "execution_count": null,
   "metadata": {},
   "outputs": [],
   "source": [
    "# 4. 双变量分析（特征 vs 目标）\n",
    "analyzer.bivariate_analysis()"
   ]
  },
  {
   "cell_type": "code",
   "execution_count": null,
   "metadata": {},
   "outputs": [],
   "source": [
    "# 5. 多变量分析（相关性）\n",
    "analyzer.multivariate_analysis()"
   ]
  },
  {
   "cell_type": "code",
   "execution_count": null,
   "metadata": {},
   "outputs": [],
   "source": [
    "# 6. 统计检验\n",
    "analyzer.statistical_tests()"
   ]
  },
  {
   "cell_type": "code",
   "execution_count": null,
   "metadata": {},
   "outputs": [],
   "source": [
    "# 7. 生成报告\n",
    "analyzer.generate_report()"
   ]
  },
  {
   "cell_type": "markdown",
   "metadata": {},
   "source": [
    "---\n",
    "## 🔧 方式3: 使用独立工具模块（完全自定义）"
   ]
  },
  {
   "cell_type": "code",
   "execution_count": null,
   "metadata": {},
   "outputs": [],
   "source": [
    "# 导入工具\n",
    "import pandas as pd\n",
    "import numpy as np\n",
    "import sys\n",
    "sys.path.append('src')\n",
    "\n",
    "from utils.data_loader import DataLoader, reduce_mem_usage\n",
    "from visualization.plot_templates import EDAPlotter\n",
    "from utils.statistical_tests import StatisticalTester"
   ]
  },
  {
   "cell_type": "markdown",
   "metadata": {},
   "source": [
    "### 3.1 数据加载"
   ]
  },
  {
   "cell_type": "code",
   "execution_count": null,
   "metadata": {},
   "outputs": [],
   "source": [
    "# 加载数据\n",
    "df = pd.read_csv(DATA_PATH)\n",
    "print(f\"数据形状: {df.shape}\")\n",
    "df.head()"
   ]
  },
  {
   "cell_type": "code",
   "execution_count": null,
   "metadata": {},
   "outputs": [],
   "source": [
    "# 内存优化\n",
    "df = reduce_mem_usage(df)"
   ]
  },
  {
   "cell_type": "markdown",
   "metadata": {},
   "source": [
    "### 3.2 可视化分析"
   ]
  },
  {
   "cell_type": "code",
   "execution_count": null,
   "metadata": {},
   "outputs": [],
   "source": [
    "# 创建绘图器\n",
    "plotter = EDAPlotter()"
   ]
  },
  {
   "cell_type": "code",
   "execution_count": null,
   "metadata": {},
   "outputs": [],
   "source": [
    "# 绘制数值型特征分布\n",
    "plotter.plot_numeric_distribution(df, 'age', target=TARGET)"
   ]
  },
  {
   "cell_type": "code",
   "execution_count": null,
   "metadata": {},
   "outputs": [],
   "source": [
    "# 绘制类别型特征分布\n",
    "if 'smoker' in df.columns:\n",
    "    plotter.plot_categorical_distribution(df, 'smoker')"
   ]
  },
  {
   "cell_type": "code",
   "execution_count": null,
   "metadata": {},
   "outputs": [],
   "source": [
    "# 相关性热力图\n",
    "plotter.plot_correlation_heatmap(df)"
   ]
  },
  {
   "cell_type": "code",
   "execution_count": null,
   "metadata": {},
   "outputs": [],
   "source": [
    "# 目标变量分析\n",
    "plotter.plot_target_analysis(df, TARGET)"
   ]
  },
  {
   "cell_type": "markdown",
   "metadata": {},
   "source": [
    "### 3.3 统计检验"
   ]
  },
  {
   "cell_type": "code",
   "execution_count": null,
   "metadata": {},
   "outputs": [],
   "source": [
    "# 创建统计检验器\n",
    "tester = StatisticalTester(alpha=0.05)"
   ]
  },
  {
   "cell_type": "code",
   "execution_count": null,
   "metadata": {},
   "outputs": [],
   "source": [
    "# 正态性检验\n",
    "if 'age' in df.columns:\n",
    "    result = tester.test_normality(df['age'])\n",
    "    print(result)"
   ]
  },
  {
   "cell_type": "code",
   "execution_count": null,
   "metadata": {},
   "outputs": [],
   "source": [
    "# 两组比较（例如：吸烟者vs非吸烟者的费用）\n",
    "if 'smoker' in df.columns and TARGET in df.columns:\n",
    "    smokers = df[df['smoker'] == 'yes'][TARGET]\n",
    "    non_smokers = df[df['smoker'] == 'no'][TARGET]\n",
    "    \n",
    "    result = tester.test_two_groups(smokers, non_smokers)\n",
    "    print(\"\\n两组比较结果:\")\n",
    "    for key, value in result.items():\n",
    "        print(f\"{key}: {value}\")"
   ]
  },
  {
   "cell_type": "code",
   "execution_count": null,
   "metadata": {},
   "outputs": [],
   "source": [
    "# 相关性检验\n",
    "if 'age' in df.columns and TARGET in df.columns:\n",
    "    result = tester.test_correlation(df['age'], df[TARGET], method='pearson')\n",
    "    print(\"\\nPearson相关性检验:\")\n",
    "    print(result['interpretation'])"
   ]
  },
  {
   "cell_type": "code",
   "execution_count": null,
   "metadata": {},
   "outputs": [],
   "source": [
    "# 综合分析（自动选择合适的检验方法）\n",
    "if 'age' in df.columns:\n",
    "    results = tester.comprehensive_analysis(df, 'age', TARGET)\n",
    "    tester.print_test_results(results)"
   ]
  },
  {
   "cell_type": "markdown",
   "metadata": {},
   "source": [
    "---\n",
    "## 💡 自定义分析示例"
   ]
  },
  {
   "cell_type": "code",
   "execution_count": null,
   "metadata": {},
   "outputs": [],
   "source": [
    "# 示例：只分析特定的几个特征\n",
    "features_to_analyze = ['age', 'bmi', 'children']  # 👈 修改为你想分析的特征\n",
    "\n",
    "for feature in features_to_analyze:\n",
    "    if feature in df.columns:\n",
    "        print(f\"\\n{'='*60}\")\n",
    "        print(f\"分析特征: {feature}\")\n",
    "        print('='*60)\n",
    "        \n",
    "        # 绘图\n",
    "        plotter.plot_numeric_distribution(df, feature, target=TARGET)\n",
    "        \n",
    "        # 统计检验\n",
    "        results = tester.comprehensive_analysis(df, feature, TARGET)\n",
    "        tester.print_test_results(results)"
   ]
  },
  {
   "cell_type": "markdown",
   "metadata": {},
   "source": [
    "---\n",
    "## 📊 查看关键发现"
   ]
  },
  {
   "cell_type": "code",
   "execution_count": null,
   "metadata": {},
   "outputs": [],
   "source": [
    "# 数据摘要\n",
    "print(\"数据基本信息\")\n",
    "print(\"=\"*60)\n",
    "print(f\"总行数: {len(df):,}\")\n",
    "print(f\"总列数: {len(df.columns)}\")\n",
    "print(f\"\\n缺失值总数: {df.isnull().sum().sum()}\")\n",
    "print(f\"重复行数: {df.duplicated().sum()}\")"
   ]
  },
  {
   "cell_type": "code",
   "execution_count": null,
   "metadata": {},
   "outputs": [],
   "source": [
    "# 目标变量统计\n",
    "if TARGET in df.columns:\n",
    "    print(f\"\\n目标变量 '{TARGET}' 统计:\")\n",
    "    print(\"=\"*60)\n",
    "    print(df[TARGET].describe())"
   ]
  },
  {
   "cell_type": "code",
   "execution_count": null,
   "metadata": {},
   "outputs": [],
   "source": [
    "# 数值型特征与目标的相关性排序\n",
    "if TARGET in df.columns:\n",
    "    numeric_cols = df.select_dtypes(include=[np.number]).columns\n",
    "    numeric_cols = [c for c in numeric_cols if c != TARGET]\n",
    "    \n",
    "    correlations = []\n",
    "    for col in numeric_cols:\n",
    "        corr = df[col].corr(df[TARGET])\n",
    "        correlations.append({'特征': col, '相关系数': corr, '绝对值': abs(corr)})\n",
    "    \n",
    "    corr_df = pd.DataFrame(correlations).sort_values('绝对值', ascending=False)\n",
    "    \n",
    "    print(f\"\\n特征与 '{TARGET}' 的相关性（按重要性排序）:\")\n",
    "    print(\"=\"*60)\n",
    "    print(corr_df.head(10).to_string(index=False))"
   ]
  },
  {
   "cell_type": "markdown",
   "metadata": {},
   "source": [
    "---\n",
    "## ✅ 完成！\n",
    "\n",
    "现在你已经完成了数据分析，查看 `reports/` 目录获取所有图表和报告。\n",
    "\n",
    "### 下一步可以做什么？\n",
    "\n",
    "1. **特征工程**: 根据EDA发现创建新特征\n",
    "2. **数据预处理**: 处理缺失值、异常值\n",
    "3. **建模**: 使用这些洞察构建预测模型\n",
    "4. **深入分析**: 针对有趣的发现进行更深入的探索\n",
    "\n",
    "### 学习资源\n",
    "\n",
    "- 查看 `README_QUICKSTART.md` 了解更多用法\n",
    "- 查看 `data_analysis_pipeline.md` 了解完整方法论\n",
    "- 阅读 `src/` 目录下的代码学习技术细节"
   ]
  }
 ],
 "metadata": {
  "kernelspec": {
   "display_name": "Python 3",
   "language": "python",
   "name": "python3"
  },
  "language_info": {
   "codemirror_mode": {
    "name": "ipython",
    "version": 3
   },
   "file_extension": ".py",
   "mimetype": "text/x-python",
   "name": "python",
   "nbconvert_exporter": "python",
   "pygments_lexer": "ipython3",
   "version": "3.8.0"
  }
 },
 "nbformat": 4,
 "nbformat_minor": 4
}
